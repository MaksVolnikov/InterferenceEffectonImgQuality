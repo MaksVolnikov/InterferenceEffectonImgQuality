{
 "cells": [
  {
   "attachments": {},
   "cell_type": "markdown",
   "metadata": {},
   "source": [
    "# Влияние эффекта интерференции на качество jpg изображений и рассчет коэффициентов MSE PSNR и SSIM"
   ]
  },
  {
   "attachments": {},
   "cell_type": "markdown",
   "metadata": {},
   "source": [
    "## Получаем исходные изображения"
   ]
  },
  {
   "cell_type": "code",
   "execution_count": 1,
   "metadata": {},
   "outputs": [
    {
     "name": "stdout",
     "output_type": "stream",
     "text": [
      "Малое количество деталей\n"
     ]
    },
    {
     "data": {
      "text/html": [
       "<img src=\"_images/group_1/_1.jpg\" style=\"display:inline;margin:10px;\" height=\"128\"/><img src=\"_images/group_1/_2.jpg\" style=\"display:inline;margin:10px;\" height=\"128\"/><img src=\"_images/group_1/_3.jpg\" style=\"display:inline;margin:10px;\" height=\"128\"/>"
      ],
      "text/plain": [
       "<IPython.core.display.HTML object>"
      ]
     },
     "metadata": {},
     "output_type": "display_data"
    },
    {
     "name": "stdout",
     "output_type": "stream",
     "text": [
      "Средне количество деталей\n"
     ]
    },
    {
     "data": {
      "text/html": [
       "<img src=\"_images/group_2/_1.jpg\" style=\"display:inline;margin:10px;\" height=\"128\"/><img src=\"_images/group_2/_2.jpg\" style=\"display:inline;margin:10px;\" height=\"128\"/><img src=\"_images/group_2/_3.jpg\" style=\"display:inline;margin:10px;\" height=\"128\"/>"
      ],
      "text/plain": [
       "<IPython.core.display.HTML object>"
      ]
     },
     "metadata": {},
     "output_type": "display_data"
    },
    {
     "name": "stdout",
     "output_type": "stream",
     "text": [
      "Большое количество деталей\n"
     ]
    },
    {
     "data": {
      "text/html": [
       "<img src=\"_images/group_3/_1.jpg\" style=\"display:inline;margin:10px;\" height=\"128\"/><img src=\"_images/group_3/_2.jpg\" style=\"display:inline;margin:10px;\" height=\"128\"/><img src=\"_images/group_3/_3.jpg\" style=\"display:inline;margin:10px;\" height=\"128\"/>"
      ],
      "text/plain": [
       "<IPython.core.display.HTML object>"
      ]
     },
     "metadata": {},
     "output_type": "display_data"
    }
   ],
   "source": [
    "from IPython.display import Image, display, HTML\n",
    "\n",
    "def make_html(img_path):\n",
    "     return '<img src=\"{}\" style=\"display:inline;margin:10px;\" height=\"128\"/>'.format(img_path)\n",
    "\n",
    "_group_1_paths = ['_images/group_1/_1.jpg', '_images/group_1/_2.jpg', '_images/group_1/_3.jpg']\n",
    "_group_2_paths = ['_images/group_2/_1.jpg', '_images/group_2/_2.jpg', '_images/group_2/_3.jpg']\n",
    "_group_3_paths = ['_images/group_3/_1.jpg', '_images/group_3/_2.jpg', '_images/group_3/_3.jpg']\n",
    "\n",
    "print(\"Малое количество деталей\")\n",
    "display(HTML(''.join([make_html(x) for x in _group_1_paths])))\n",
    "\n",
    "print(\"Средне количество деталей\")\n",
    "display(HTML(''.join([make_html(x) for x in _group_2_paths])))\n",
    "\n",
    "print(\"Большое количество деталей\")\n",
    "display(HTML(''.join([make_html(x) for x in _group_3_paths])))"
   ]
  },
  {
   "attachments": {},
   "cell_type": "markdown",
   "metadata": {},
   "source": [
    "## Вносим искажения в изображения "
   ]
  },
  {
   "cell_type": "code",
   "execution_count": 2,
   "metadata": {},
   "outputs": [
    {
     "name": "stdout",
     "output_type": "stream",
     "text": [
      "Сохраняем изображения с потерями\n",
      "Размываем изображения ядром 7х7 (blur)\n",
      "Добавляем импульсный шум\n",
      "**************************************\n"
     ]
    }
   ],
   "source": [
    "import cv2\n",
    "import os\n",
    "import numpy as np\n",
    "\n",
    "# Сохраняем изображения с потерями\n",
    "def save_low_quality(in_path):\n",
    "    _QUALITY = 1\n",
    "    _dirname = os.path.dirname(in_path)\n",
    "    _filename = os.path.basename(in_path).replace(\".jpg\", \"\")\n",
    "    _result_dirname = os.path.join(_dirname, \"results\")\n",
    "    _result_path = os.path.join(_result_dirname, _filename + f\"_low_quality_{_QUALITY}\" + \".jpg\")\n",
    "    img = cv2.imread(in_path)\n",
    "    cv2.imwrite(_result_path, img, [cv2.IMWRITE_JPEG_QUALITY, _QUALITY])\n",
    "\n",
    "print(\"Сохраняем изображения с потерями\")\n",
    "[save_low_quality(x) for x in _group_1_paths]\n",
    "[save_low_quality(x) for x in _group_2_paths]\n",
    "[save_low_quality(x) for x in _group_3_paths]\n",
    "\n",
    "# Нанесение размытия (blur)\n",
    "def save_blur(in_path):\n",
    "    _dirname = os.path.dirname(in_path)\n",
    "    _filename = os.path.basename(in_path).replace(\".jpg\", \"\")\n",
    "    _result_dirname = os.path.join(_dirname, \"results\")\n",
    "    _result_path = os.path.join(_result_dirname, _filename + \"_blur\" + \".jpg\")\n",
    "    img = cv2.imread(in_path)\n",
    "    blur_img = cv2.blur(img, (7, 7))\n",
    "    cv2.imwrite(_result_path, blur_img)\n",
    "\n",
    "print(\"Размываем изображения ядром 7х7 (blur)\")\n",
    "[save_blur(x) for x in _group_1_paths]\n",
    "[save_blur(x) for x in _group_2_paths]\n",
    "[save_blur(x) for x in _group_3_paths]\n",
    "\n",
    "# Добавляем импульсный шум\n",
    "def save_impulse_noise(in_path):\n",
    "    noise_probability = 50\n",
    "    _dirname = os.path.dirname(in_path)\n",
    "    _filename = os.path.basename(in_path).replace(\".jpg\", \"\")\n",
    "    _result_dirname = os.path.join(_dirname, \"results\")\n",
    "    _result_path = os.path.join(_result_dirname, _filename + \"_impulse_noise\" + \".jpg\")\n",
    "    img = cv2.imread(in_path)\n",
    "    h, w = img.shape[:2]\n",
    "    noise = np.zeros((h, w), np.uint8)\n",
    "    cv2.randu(noise, 0, 255)\n",
    "    image_with_noise = img.copy()\n",
    "    image_with_noise[noise < noise_probability] = 0\n",
    "    image_with_noise[noise > 255 - noise_probability] = 255\n",
    "    cv2.imwrite(_result_path, image_with_noise)\n",
    "\n",
    "print(\"Добавляем импульсный шум\")\n",
    "[save_impulse_noise(x) for x in _group_1_paths]\n",
    "[save_impulse_noise(x) for x in _group_2_paths]\n",
    "[save_impulse_noise(x) for x in _group_3_paths]\n",
    "\n",
    "print(\"**************************************\")\n",
    "\n"
   ]
  },
  {
   "attachments": {},
   "cell_type": "markdown",
   "metadata": {},
   "source": [
    "## Расчитываем три показателя: MSE, PSNR и SSIM"
   ]
  },
  {
   "cell_type": "code",
   "execution_count": 4,
   "metadata": {},
   "outputs": [
    {
     "name": "stdout",
     "output_type": "stream",
     "text": [
      "**************************************\n"
     ]
    },
    {
     "name": "stderr",
     "output_type": "stream",
     "text": [
      "C:\\Users\\Acer\\AppData\\Local\\Temp\\ipykernel_9340\\2822046262.py:32: FutureWarning: The frame.append method is deprecated and will be removed from pandas in a future version. Use pandas.concat instead.\n",
      "  df = df.append({'Group': name_group, 'BaseFile': os.path.basename(orig_img_path), 'DifFile': os.path.basename(file), 'MSE': round(_MSE, 3), 'PSNR': round(_PSNR, 3), 'SSIM': round(_SSIM, 3)}, ignore_index=True)\n",
      "C:\\Users\\Acer\\AppData\\Local\\Temp\\ipykernel_9340\\2822046262.py:32: FutureWarning: The frame.append method is deprecated and will be removed from pandas in a future version. Use pandas.concat instead.\n",
      "  df = df.append({'Group': name_group, 'BaseFile': os.path.basename(orig_img_path), 'DifFile': os.path.basename(file), 'MSE': round(_MSE, 3), 'PSNR': round(_PSNR, 3), 'SSIM': round(_SSIM, 3)}, ignore_index=True)\n",
      "C:\\Users\\Acer\\AppData\\Local\\Temp\\ipykernel_9340\\2822046262.py:32: FutureWarning: The frame.append method is deprecated and will be removed from pandas in a future version. Use pandas.concat instead.\n",
      "  df = df.append({'Group': name_group, 'BaseFile': os.path.basename(orig_img_path), 'DifFile': os.path.basename(file), 'MSE': round(_MSE, 3), 'PSNR': round(_PSNR, 3), 'SSIM': round(_SSIM, 3)}, ignore_index=True)\n",
      "C:\\Users\\Acer\\AppData\\Local\\Temp\\ipykernel_9340\\2822046262.py:32: FutureWarning: The frame.append method is deprecated and will be removed from pandas in a future version. Use pandas.concat instead.\n",
      "  df = df.append({'Group': name_group, 'BaseFile': os.path.basename(orig_img_path), 'DifFile': os.path.basename(file), 'MSE': round(_MSE, 3), 'PSNR': round(_PSNR, 3), 'SSIM': round(_SSIM, 3)}, ignore_index=True)\n",
      "C:\\Users\\Acer\\AppData\\Local\\Temp\\ipykernel_9340\\2822046262.py:32: FutureWarning: The frame.append method is deprecated and will be removed from pandas in a future version. Use pandas.concat instead.\n",
      "  df = df.append({'Group': name_group, 'BaseFile': os.path.basename(orig_img_path), 'DifFile': os.path.basename(file), 'MSE': round(_MSE, 3), 'PSNR': round(_PSNR, 3), 'SSIM': round(_SSIM, 3)}, ignore_index=True)\n",
      "C:\\Users\\Acer\\AppData\\Local\\Temp\\ipykernel_9340\\2822046262.py:32: FutureWarning: The frame.append method is deprecated and will be removed from pandas in a future version. Use pandas.concat instead.\n",
      "  df = df.append({'Group': name_group, 'BaseFile': os.path.basename(orig_img_path), 'DifFile': os.path.basename(file), 'MSE': round(_MSE, 3), 'PSNR': round(_PSNR, 3), 'SSIM': round(_SSIM, 3)}, ignore_index=True)\n",
      "C:\\Users\\Acer\\AppData\\Local\\Temp\\ipykernel_9340\\2822046262.py:32: FutureWarning: The frame.append method is deprecated and will be removed from pandas in a future version. Use pandas.concat instead.\n",
      "  df = df.append({'Group': name_group, 'BaseFile': os.path.basename(orig_img_path), 'DifFile': os.path.basename(file), 'MSE': round(_MSE, 3), 'PSNR': round(_PSNR, 3), 'SSIM': round(_SSIM, 3)}, ignore_index=True)\n",
      "C:\\Users\\Acer\\AppData\\Local\\Temp\\ipykernel_9340\\2822046262.py:32: FutureWarning: The frame.append method is deprecated and will be removed from pandas in a future version. Use pandas.concat instead.\n",
      "  df = df.append({'Group': name_group, 'BaseFile': os.path.basename(orig_img_path), 'DifFile': os.path.basename(file), 'MSE': round(_MSE, 3), 'PSNR': round(_PSNR, 3), 'SSIM': round(_SSIM, 3)}, ignore_index=True)\n",
      "C:\\Users\\Acer\\AppData\\Local\\Temp\\ipykernel_9340\\2822046262.py:32: FutureWarning: The frame.append method is deprecated and will be removed from pandas in a future version. Use pandas.concat instead.\n",
      "  df = df.append({'Group': name_group, 'BaseFile': os.path.basename(orig_img_path), 'DifFile': os.path.basename(file), 'MSE': round(_MSE, 3), 'PSNR': round(_PSNR, 3), 'SSIM': round(_SSIM, 3)}, ignore_index=True)\n"
     ]
    },
    {
     "name": "stdout",
     "output_type": "stream",
     "text": [
      "**************************************\n"
     ]
    },
    {
     "name": "stderr",
     "output_type": "stream",
     "text": [
      "C:\\Users\\Acer\\AppData\\Local\\Temp\\ipykernel_9340\\2822046262.py:32: FutureWarning: The frame.append method is deprecated and will be removed from pandas in a future version. Use pandas.concat instead.\n",
      "  df = df.append({'Group': name_group, 'BaseFile': os.path.basename(orig_img_path), 'DifFile': os.path.basename(file), 'MSE': round(_MSE, 3), 'PSNR': round(_PSNR, 3), 'SSIM': round(_SSIM, 3)}, ignore_index=True)\n",
      "C:\\Users\\Acer\\AppData\\Local\\Temp\\ipykernel_9340\\2822046262.py:32: FutureWarning: The frame.append method is deprecated and will be removed from pandas in a future version. Use pandas.concat instead.\n",
      "  df = df.append({'Group': name_group, 'BaseFile': os.path.basename(orig_img_path), 'DifFile': os.path.basename(file), 'MSE': round(_MSE, 3), 'PSNR': round(_PSNR, 3), 'SSIM': round(_SSIM, 3)}, ignore_index=True)\n",
      "C:\\Users\\Acer\\AppData\\Local\\Temp\\ipykernel_9340\\2822046262.py:32: FutureWarning: The frame.append method is deprecated and will be removed from pandas in a future version. Use pandas.concat instead.\n",
      "  df = df.append({'Group': name_group, 'BaseFile': os.path.basename(orig_img_path), 'DifFile': os.path.basename(file), 'MSE': round(_MSE, 3), 'PSNR': round(_PSNR, 3), 'SSIM': round(_SSIM, 3)}, ignore_index=True)\n",
      "C:\\Users\\Acer\\AppData\\Local\\Temp\\ipykernel_9340\\2822046262.py:32: FutureWarning: The frame.append method is deprecated and will be removed from pandas in a future version. Use pandas.concat instead.\n",
      "  df = df.append({'Group': name_group, 'BaseFile': os.path.basename(orig_img_path), 'DifFile': os.path.basename(file), 'MSE': round(_MSE, 3), 'PSNR': round(_PSNR, 3), 'SSIM': round(_SSIM, 3)}, ignore_index=True)\n",
      "C:\\Users\\Acer\\AppData\\Local\\Temp\\ipykernel_9340\\2822046262.py:32: FutureWarning: The frame.append method is deprecated and will be removed from pandas in a future version. Use pandas.concat instead.\n",
      "  df = df.append({'Group': name_group, 'BaseFile': os.path.basename(orig_img_path), 'DifFile': os.path.basename(file), 'MSE': round(_MSE, 3), 'PSNR': round(_PSNR, 3), 'SSIM': round(_SSIM, 3)}, ignore_index=True)\n",
      "C:\\Users\\Acer\\AppData\\Local\\Temp\\ipykernel_9340\\2822046262.py:32: FutureWarning: The frame.append method is deprecated and will be removed from pandas in a future version. Use pandas.concat instead.\n",
      "  df = df.append({'Group': name_group, 'BaseFile': os.path.basename(orig_img_path), 'DifFile': os.path.basename(file), 'MSE': round(_MSE, 3), 'PSNR': round(_PSNR, 3), 'SSIM': round(_SSIM, 3)}, ignore_index=True)\n",
      "C:\\Users\\Acer\\AppData\\Local\\Temp\\ipykernel_9340\\2822046262.py:32: FutureWarning: The frame.append method is deprecated and will be removed from pandas in a future version. Use pandas.concat instead.\n",
      "  df = df.append({'Group': name_group, 'BaseFile': os.path.basename(orig_img_path), 'DifFile': os.path.basename(file), 'MSE': round(_MSE, 3), 'PSNR': round(_PSNR, 3), 'SSIM': round(_SSIM, 3)}, ignore_index=True)\n",
      "C:\\Users\\Acer\\AppData\\Local\\Temp\\ipykernel_9340\\2822046262.py:32: FutureWarning: The frame.append method is deprecated and will be removed from pandas in a future version. Use pandas.concat instead.\n",
      "  df = df.append({'Group': name_group, 'BaseFile': os.path.basename(orig_img_path), 'DifFile': os.path.basename(file), 'MSE': round(_MSE, 3), 'PSNR': round(_PSNR, 3), 'SSIM': round(_SSIM, 3)}, ignore_index=True)\n",
      "C:\\Users\\Acer\\AppData\\Local\\Temp\\ipykernel_9340\\2822046262.py:32: FutureWarning: The frame.append method is deprecated and will be removed from pandas in a future version. Use pandas.concat instead.\n",
      "  df = df.append({'Group': name_group, 'BaseFile': os.path.basename(orig_img_path), 'DifFile': os.path.basename(file), 'MSE': round(_MSE, 3), 'PSNR': round(_PSNR, 3), 'SSIM': round(_SSIM, 3)}, ignore_index=True)\n"
     ]
    },
    {
     "name": "stdout",
     "output_type": "stream",
     "text": [
      "**************************************\n"
     ]
    },
    {
     "name": "stderr",
     "output_type": "stream",
     "text": [
      "C:\\Users\\Acer\\AppData\\Local\\Temp\\ipykernel_9340\\2822046262.py:32: FutureWarning: The frame.append method is deprecated and will be removed from pandas in a future version. Use pandas.concat instead.\n",
      "  df = df.append({'Group': name_group, 'BaseFile': os.path.basename(orig_img_path), 'DifFile': os.path.basename(file), 'MSE': round(_MSE, 3), 'PSNR': round(_PSNR, 3), 'SSIM': round(_SSIM, 3)}, ignore_index=True)\n",
      "C:\\Users\\Acer\\AppData\\Local\\Temp\\ipykernel_9340\\2822046262.py:32: FutureWarning: The frame.append method is deprecated and will be removed from pandas in a future version. Use pandas.concat instead.\n",
      "  df = df.append({'Group': name_group, 'BaseFile': os.path.basename(orig_img_path), 'DifFile': os.path.basename(file), 'MSE': round(_MSE, 3), 'PSNR': round(_PSNR, 3), 'SSIM': round(_SSIM, 3)}, ignore_index=True)\n",
      "C:\\Users\\Acer\\AppData\\Local\\Temp\\ipykernel_9340\\2822046262.py:32: FutureWarning: The frame.append method is deprecated and will be removed from pandas in a future version. Use pandas.concat instead.\n",
      "  df = df.append({'Group': name_group, 'BaseFile': os.path.basename(orig_img_path), 'DifFile': os.path.basename(file), 'MSE': round(_MSE, 3), 'PSNR': round(_PSNR, 3), 'SSIM': round(_SSIM, 3)}, ignore_index=True)\n",
      "C:\\Users\\Acer\\AppData\\Local\\Temp\\ipykernel_9340\\2822046262.py:32: FutureWarning: The frame.append method is deprecated and will be removed from pandas in a future version. Use pandas.concat instead.\n",
      "  df = df.append({'Group': name_group, 'BaseFile': os.path.basename(orig_img_path), 'DifFile': os.path.basename(file), 'MSE': round(_MSE, 3), 'PSNR': round(_PSNR, 3), 'SSIM': round(_SSIM, 3)}, ignore_index=True)\n",
      "C:\\Users\\Acer\\AppData\\Local\\Temp\\ipykernel_9340\\2822046262.py:32: FutureWarning: The frame.append method is deprecated and will be removed from pandas in a future version. Use pandas.concat instead.\n",
      "  df = df.append({'Group': name_group, 'BaseFile': os.path.basename(orig_img_path), 'DifFile': os.path.basename(file), 'MSE': round(_MSE, 3), 'PSNR': round(_PSNR, 3), 'SSIM': round(_SSIM, 3)}, ignore_index=True)\n",
      "C:\\Users\\Acer\\AppData\\Local\\Temp\\ipykernel_9340\\2822046262.py:32: FutureWarning: The frame.append method is deprecated and will be removed from pandas in a future version. Use pandas.concat instead.\n",
      "  df = df.append({'Group': name_group, 'BaseFile': os.path.basename(orig_img_path), 'DifFile': os.path.basename(file), 'MSE': round(_MSE, 3), 'PSNR': round(_PSNR, 3), 'SSIM': round(_SSIM, 3)}, ignore_index=True)\n",
      "C:\\Users\\Acer\\AppData\\Local\\Temp\\ipykernel_9340\\2822046262.py:32: FutureWarning: The frame.append method is deprecated and will be removed from pandas in a future version. Use pandas.concat instead.\n",
      "  df = df.append({'Group': name_group, 'BaseFile': os.path.basename(orig_img_path), 'DifFile': os.path.basename(file), 'MSE': round(_MSE, 3), 'PSNR': round(_PSNR, 3), 'SSIM': round(_SSIM, 3)}, ignore_index=True)\n",
      "C:\\Users\\Acer\\AppData\\Local\\Temp\\ipykernel_9340\\2822046262.py:32: FutureWarning: The frame.append method is deprecated and will be removed from pandas in a future version. Use pandas.concat instead.\n",
      "  df = df.append({'Group': name_group, 'BaseFile': os.path.basename(orig_img_path), 'DifFile': os.path.basename(file), 'MSE': round(_MSE, 3), 'PSNR': round(_PSNR, 3), 'SSIM': round(_SSIM, 3)}, ignore_index=True)\n",
      "C:\\Users\\Acer\\AppData\\Local\\Temp\\ipykernel_9340\\2822046262.py:32: FutureWarning: The frame.append method is deprecated and will be removed from pandas in a future version. Use pandas.concat instead.\n",
      "  df = df.append({'Group': name_group, 'BaseFile': os.path.basename(orig_img_path), 'DifFile': os.path.basename(file), 'MSE': round(_MSE, 3), 'PSNR': round(_PSNR, 3), 'SSIM': round(_SSIM, 3)}, ignore_index=True)\n"
     ]
    },
    {
     "name": "stdout",
     "output_type": "stream",
     "text": [
      "**************************************\n",
      "     Group BaseFile               DifFile        MSE    PSNR   SSIM\n",
      "0    Small   _1.jpg           _1_blur.jpg    221.086  24.685  0.913\n",
      "1    Small   _1.jpg  _1_impulse_noise.jpg  10862.836   7.771  0.045\n",
      "2    Small   _1.jpg  _1_low_quality_1.jpg    254.594  24.072  0.759\n",
      "3    Small   _2.jpg           _2_blur.jpg     66.296  29.916  0.897\n",
      "4    Small   _2.jpg  _2_impulse_noise.jpg   6886.964   9.751  0.026\n",
      "5    Small   _2.jpg  _2_low_quality_1.jpg    347.115  22.726  0.749\n",
      "6    Small   _3.jpg           _3_blur.jpg     11.024  37.707  0.973\n",
      "7    Small   _3.jpg  _3_impulse_noise.jpg   6957.270   9.706  0.013\n",
      "8    Small   _3.jpg  _3_low_quality_1.jpg    314.338  23.157  0.865\n",
      "9   Middle   _1.jpg           _1_blur.jpg    362.640  22.536  0.589\n",
      "10  Middle   _1.jpg  _1_impulse_noise.jpg   7657.863   9.290  0.083\n",
      "11  Middle   _1.jpg  _1_low_quality_1.jpg    604.980  20.313  0.551\n",
      "12  Middle   _2.jpg           _2_blur.jpg    103.334  27.988  0.723\n",
      "13  Middle   _2.jpg  _2_impulse_noise.jpg   7007.161   9.675  0.033\n",
      "14  Middle   _2.jpg  _2_low_quality_1.jpg    376.054  22.378  0.564\n",
      "15  Middle   _3.jpg           _3_blur.jpg    139.103  26.697  0.729\n",
      "16  Middle   _3.jpg  _3_impulse_noise.jpg   7022.315   9.666  0.038\n",
      "17  Middle   _3.jpg  _3_low_quality_1.jpg    382.360  22.306  0.622\n",
      "18   Large   _1.jpg           _1_blur.jpg   3642.909  12.516  0.373\n",
      "19   Large   _1.jpg  _1_impulse_noise.jpg  10883.674   7.763  0.301\n",
      "20   Large   _1.jpg  _1_low_quality_1.jpg   1313.713  16.946  0.815\n",
      "21   Large   _2.jpg           _2_blur.jpg    244.539  24.247  0.668\n",
      "22   Large   _2.jpg  _2_impulse_noise.jpg  10641.929   7.861  0.040\n",
      "23   Large   _2.jpg  _2_low_quality_1.jpg    473.021  21.382  0.547\n",
      "24   Large   _3.jpg           _3_blur.jpg    429.904  21.797  0.588\n",
      "25   Large   _3.jpg  _3_impulse_noise.jpg   8035.840   9.080  0.092\n",
      "26   Large   _3.jpg  _3_low_quality_1.jpg    523.850  20.939  0.591\n"
     ]
    }
   ],
   "source": [
    "# python -m pip install -U scikit-image\n",
    "# pip install pandas\n",
    "# pip install openpyxl\n",
    "import cv2\n",
    "import os\n",
    "import numpy as np\n",
    "import pandas as pd\n",
    "from skimage.metrics import peak_signal_noise_ratio as psnr\n",
    "from skimage.metrics import structural_similarity as ssim\n",
    "from skimage.metrics import mean_squared_error as mse\n",
    "\n",
    "_group_1_paths = ['_images/group_1/_1.jpg', '_images/group_1/_2.jpg', '_images/group_1/_3.jpg']\n",
    "_group_2_paths = ['_images/group_2/_1.jpg', '_images/group_2/_2.jpg', '_images/group_2/_3.jpg']\n",
    "_group_3_paths = ['_images/group_3/_1.jpg', '_images/group_3/_2.jpg', '_images/group_3/_3.jpg']\n",
    "\n",
    "df = pd.DataFrame()\n",
    "def Calc_MSE_PSNR_SSIM(orig_img_path, name_group):\n",
    "    global df\n",
    "    orig_img = cv2.imread(orig_img_path)\n",
    "    _basename = os.path.basename(orig_img_path).replace(\".jpg\", \"\")\n",
    "    _dirname = os.path.dirname(orig_img_path)\n",
    "    _result_dirname = os.path.join(_dirname, \"results\")\n",
    "    for root, dirs, files in os.walk(_result_dirname):\n",
    "        for file in files:\n",
    "            if _basename not in os.path.basename(file)[:5]: continue; \n",
    "            dif_img  = cv2.imread(os.path.join(root, file))\n",
    "            _MSE = mse(orig_img, dif_img)\n",
    "            _PSNR = psnr(orig_img, dif_img)\n",
    "            _SSIM = ssim(orig_img, dif_img, channel_axis = -1)\n",
    "            #print(f\"----- {_dirname}: {os.path.basename(orig_img_path)} -> {os.path.basename(file)} -----\")\n",
    "            #print(f'MSE: {round(_MSE, 2)}, PSNR: {round(_PSNR, 2)}, SSIM: {round(_SSIM, 2)}')\n",
    "            df = df.append({'Group': name_group, 'BaseFile': os.path.basename(orig_img_path), 'DifFile': os.path.basename(file), 'MSE': round(_MSE, 3), 'PSNR': round(_PSNR, 3), 'SSIM': round(_SSIM, 3)}, ignore_index=True)\n",
    "\n",
    "print(\"**************************************\")\n",
    "[Calc_MSE_PSNR_SSIM(x, \"Small\") for x in _group_1_paths]\n",
    "print(\"**************************************\")\n",
    "[Calc_MSE_PSNR_SSIM(x, \"Middle\") for x in _group_2_paths]\n",
    "print(\"**************************************\")\n",
    "[Calc_MSE_PSNR_SSIM(x, \"Large\") for x in _group_3_paths]\n",
    "print(\"**************************************\")\n",
    "\n",
    "print(df)\n",
    "df.to_excel(\"_images/output_Calc_MSE_PSNR_SSIM.xlsx\")"
   ]
  },
  {
   "cell_type": "code",
   "execution_count": null,
   "metadata": {},
   "outputs": [],
   "source": []
  }
 ],
 "metadata": {
  "kernelspec": {
   "display_name": "Python 3.11.0 64-bit",
   "language": "python",
   "name": "python3"
  },
  "language_info": {
   "codemirror_mode": {
    "name": "ipython",
    "version": 3
   },
   "file_extension": ".py",
   "mimetype": "text/x-python",
   "name": "python",
   "nbconvert_exporter": "python",
   "pygments_lexer": "ipython3",
   "version": "3.11.0"
  },
  "orig_nbformat": 4,
  "vscode": {
   "interpreter": {
    "hash": "74423dd6405532c7eadbba924f558880d41a7574ffa2358673187237adc1b1f8"
   }
  }
 },
 "nbformat": 4,
 "nbformat_minor": 2
}
